{
 "cells": [
  {
   "cell_type": "code",
   "execution_count": 289,
   "metadata": {},
   "outputs": [],
   "source": [
    "import numpy as np\n",
    "import math\n",
    "import matplotlib as mpl\n",
    "import matplotlib.pyplot as plt\n",
    "import copy\n",
    "import random\n",
    "import networkx as nx"
   ]
  },
  {
   "cell_type": "markdown",
   "metadata": {},
   "source": [
    "Ising Model MCMC Simulation:"
   ]
  },
  {
   "cell_type": "code",
   "execution_count": 290,
   "metadata": {},
   "outputs": [],
   "source": [
    "# create n x n board with n^2*p nodes assigned -1 and the rest 1\n",
    "def gen_board(n, p):\n",
    "    B = np.ones(n*n)\n",
    "    B[1:math.floor(n*n*p)] = -1\n",
    "    np.random.shuffle(B)\n",
    "    B = B.reshape((n,n))\n",
    "    return B"
   ]
  },
  {
   "cell_type": "code",
   "execution_count": 291,
   "metadata": {},
   "outputs": [],
   "source": [
    "def draw_board(B):\n",
    "    cmap = mpl.colors.ListedColormap(['white', 'black'])\n",
    "    plt.imshow(B, cmap=cmap, interpolation='none') "
   ]
  },
  {
   "cell_type": "code",
   "execution_count": 292,
   "metadata": {},
   "outputs": [],
   "source": [
    "def bond_energy(x, B, n):\n",
    "    i = x[0]\n",
    "    j = x[1]\n",
    "    up    = B[i-1, j] if (i > 0) else 0\n",
    "    down  = B[i+1, j] if (i < n-1) else 0\n",
    "    left  = B[i, j-1] if (j > 0) else 0\n",
    "    right = B[i, j+1] if (j < n-1) else 0\n",
    "    sum_of_neighbors = up + down + left + right\n",
    "    return -B[i,j] * sum_of_neighbors"
   ]
  },
  {
   "cell_type": "code",
   "execution_count": 293,
   "metadata": {},
   "outputs": [],
   "source": [
    "def total_energy(B, n):\n",
    "    E = 0\n",
    "    for i in range(n):\n",
    "        for j in range(n):\n",
    "            E += bond_energy((i,j), B, n)/2\n",
    "    return E"
   ]
  },
  {
   "cell_type": "code",
   "execution_count": 294,
   "metadata": {},
   "outputs": [],
   "source": [
    "def energy_diff_from_swap(x, y, B, n):\n",
    "    return -2 * (bond_energy(x, B, n) + bond_energy(y, B, n))"
   ]
  },
  {
   "cell_type": "code",
   "execution_count": 295,
   "metadata": {},
   "outputs": [],
   "source": [
    "def are_adjacent(x, y, n):\n",
    "    i1 = x[0]\n",
    "    i2 = y[0]\n",
    "    i_diff1 = abs(i1 - i2)\n",
    "    i_diff2 = n - i_diff1\n",
    "    i_diff = min(i_diff1, i_diff2)\n",
    "    \n",
    "    j1 = x[1]\n",
    "    j2 = y[1]\n",
    "    j_diff1 = abs(j1 - j2)\n",
    "    j_diff2 = n - j_diff1\n",
    "    j_diff = min(j_diff1, j_diff2)\n",
    "    \n",
    "    return (i_diff == 0 and j_diff == 1) or (i_diff == 1 and j_diff == 0)"
   ]
  },
  {
   "cell_type": "code",
   "execution_count": 296,
   "metadata": {},
   "outputs": [],
   "source": [
    "def swap(x, y, B):\n",
    "    temp = B[x[0], x[1]]\n",
    "    B[x[0], x[1]] = B[y[0], y[1]]\n",
    "    B[y[0], y[1]] = temp"
   ]
  },
  {
   "cell_type": "code",
   "execution_count": 47,
   "metadata": {},
   "outputs": [],
   "source": [
    "n = 18 # board size\n",
    "p = 0.4 # proportion of states which are spin up\n",
    "E = None\n",
    "E_history = []\n",
    "\n",
    "def metropolis_update(B, n, t):\n",
    "    global E\n",
    "    x = np.random.choice(n, 2)\n",
    "    y = np.random.choice(n, 2)\n",
    "    if (B[x[0], x[1]] == B[y[0], y[1]]) or are_adjacent(x, y, n): # retry if two positions have same spin or are adjacent\n",
    "        return metropolis_update(B, n, t)\n",
    "    dE = energy_diff_from_swap(x, y, B, n)\n",
    "    if dE <= 0 or (np.random.rand() < math.exp(-dE / t)):\n",
    "        swap(x, y, B)\n",
    "        E += dE\n",
    "        E_history.append(E)"
   ]
  },
  {
   "cell_type": "code",
   "execution_count": 297,
   "metadata": {},
   "outputs": [
    {
     "data": {
      "text/plain": [
       "[<matplotlib.lines.Line2D at 0x18b26dca2b0>]"
      ]
     },
     "execution_count": 297,
     "metadata": {},
     "output_type": "execute_result"
    },
    {
     "data": {
      "image/png": "[encoded data removed]",
      "text/plain": [
       "<Figure size 432x288 with 1 Axes>"
      ]
     },
     "metadata": {},
     "output_type": "display_data"
    }
   ],
   "source": [
    "num_iterations = 10000\n",
    "temps = []\n",
    "configs = []\n",
    "energies = []\n",
    "\n",
    "for a in np.arange(0, 1, 0.05):\n",
    "    t = 10**a\n",
    "    B = gen_board(n, p)\n",
    "    E = total_energy(B, n)\n",
    "    E_history = [E]\n",
    "    for j in range(num_iterations):\n",
    "        metropolis_update(B, n, t)\n",
    "    temps.append(t)\n",
    "    configs.append(B)\n",
    "    energies.append(E)\n",
    "plt.plot(temps, energies)"
   ]
  },
  {
   "cell_type": "markdown",
   "metadata": {},
   "source": [
    "Districting MCMC Search"
   ]
  },
  {
   "cell_type": "code",
   "execution_count": 113,
   "metadata": {},
   "outputs": [],
   "source": [
    "# create n x n square grid graph\n",
    "def create_square_grid_graph(n, diagonals):\n",
    "    G = nx.Graph()\n",
    "    for i in range(n ** 2):\n",
    "        # the nodes are indexed row first (1st row is indices 0 through 9, 2nd row is indices 10 through 19, etc.)\n",
    "        row = i // n # result of division is floored\n",
    "        col = i % n\n",
    "        # compute indices of relevant adjacent nodes and add edges\n",
    "        # no need to add W, N, NE, NW because we already visited those nodes\n",
    "        east  = i + 1\n",
    "        south = i + n\n",
    "        if row < n - 1:\n",
    "            G.add_edge(i, south)\n",
    "        if col < n - 1:\n",
    "            G.add_edge(i, east)\n",
    "        if diagonals:\n",
    "            southwest = i + n - 1\n",
    "            southeast = i + n + 1\n",
    "            if row < n - 1 and col > 0:\n",
    "                G.add_edge(i, southwest)\n",
    "            if row < n - 1 and col < n - 1:\n",
    "                G.add_edge(i, southeast)\n",
    "    return G"
   ]
  },
  {
   "cell_type": "code",
   "execution_count": 116,
   "metadata": {},
   "outputs": [
    {
     "data": {
      "image/png": "[encoded data removed]",
      "text/plain": [
       "<Figure size 432x288 with 1 Axes>"
      ]
     },
     "metadata": {},
     "output_type": "display_data"
    }
   ],
   "source": [
    "# test create_square_grid_graph_with_diagonals\n",
    "nx.draw(create_square_grid_graph(10, True))"
   ]
  },
  {
   "cell_type": "code",
   "execution_count": 76,
   "metadata": {},
   "outputs": [],
   "source": [
    "# create an initial block-layout districting\n",
    "def create_block_districting(block_width, block_height, num_blocks_across, num_blocks_down):\n",
    "    num_vertices_across = block_width * num_blocks_across\n",
    "    num_vertices_down = block_height * num_blocks_down\n",
    "    num_vertices = num_vertices_across ** 2\n",
    "    districting = np.zeros(num_vertices)\n",
    "    for i in range(num_vertices):\n",
    "        row = i // num_vertices_down\n",
    "        col = i % num_vertices_across\n",
    "        block_row = row // block_height\n",
    "        block_col = col // block_width\n",
    "        block_index = block_row * num_blocks_across + block_col\n",
    "        districting[i] = block_index\n",
    "    return districting"
   ]
  },
  {
   "cell_type": "code",
   "execution_count": 78,
   "metadata": {},
   "outputs": [
    {
     "data": {
      "text/plain": [
       "array([0., 0., 1., 1., 0., 0., 1., 1., 2., 2., 3., 3., 2., 2., 3., 3.])"
      ]
     },
     "execution_count": 78,
     "metadata": {},
     "output_type": "execute_result"
    }
   ],
   "source": [
    "# test create_block_districting\n",
    "create_block_districting(2, 2, 2, 2)"
   ]
  },
  {
   "cell_type": "code",
   "execution_count": 79,
   "metadata": {},
   "outputs": [],
   "source": [
    "# swap districts in district list\n",
    "def swap_districts(districting, node1, node2):\n",
    "    tmp = districting[node1]\n",
    "    districting[node1] = districting[node2]\n",
    "    districting[node2] = tmp"
   ]
  },
  {
   "cell_type": "code",
   "execution_count": 80,
   "metadata": {},
   "outputs": [
    {
     "name": "stdout",
     "output_type": "stream",
     "text": [
      "[2, 1]\n"
     ]
    }
   ],
   "source": [
    "# test swap_districts\n",
    "d = [1, 2]\n",
    "swap_districts(d, 0, 1)\n",
    "print(d)"
   ]
  },
  {
   "cell_type": "code",
   "execution_count": 106,
   "metadata": {},
   "outputs": [],
   "source": [
    "# remove all edges connected to vertex v in graph G\n",
    "def remove_edges_from_vertex(G, v):\n",
    "    neighbors = list(nx.all_neighbors(G, v))\n",
    "    for neighbor in neighbors:\n",
    "        G.remove_edge(v, neighbor)"
   ]
  },
  {
   "cell_type": "code",
   "execution_count": 82,
   "metadata": {},
   "outputs": [
    {
     "data": {
      "image/png": "[encoded data removed]",
      "text/plain": [
       "<Figure size 432x288 with 1 Axes>"
      ]
     },
     "metadata": {},
     "output_type": "display_data"
    }
   ],
   "source": [
    "# test remove_edges_to_neighbors\n",
    "G = create_square_grid_graph_with_diagonals(2)\n",
    "remove_edges_from_vertex(G, 0)\n",
    "nx.draw(G)"
   ]
  },
  {
   "cell_type": "code",
   "execution_count": 83,
   "metadata": {},
   "outputs": [],
   "source": [
    "# look at edges from vertex v in graph G_full\n",
    "# and add to graph G_d those which connect v to a vertex\n",
    "# in the same district, according to the district list\n",
    "def connect_vertex_to_neighbors_in_district(G_d, v, districting, G_full):\n",
    "    neighbors = list(nx.all_neighbors(G_full, v))\n",
    "    for neighbor in neighbors:\n",
    "        if districting[v] == districting[neighbor]:\n",
    "            G_d.add_edge(v, neighbor)"
   ]
  },
  {
   "cell_type": "code",
   "execution_count": 84,
   "metadata": {},
   "outputs": [
    {
     "data": {
      "image/png": "[encoded data removed]",
      "text/plain": [
       "<Figure size 432x288 with 1 Axes>"
      ]
     },
     "metadata": {},
     "output_type": "display_data"
    }
   ],
   "source": [
    "# test connect_vertex_to_neighbors_in_district\n",
    "G_full = create_square_grid_graph_with_diagonals(2)\n",
    "G_d = nx.Graph()\n",
    "G_d.add_edge(0,1)\n",
    "G_d.add_edge(2,3)\n",
    "districting = [0,0,0,1]\n",
    "connect_vertex_to_neighbors_in_district(G_d, 0, districting, G_full)\n",
    "nx.draw(G_d)\n",
    "# result should be path on four vertices"
   ]
  },
  {
   "cell_type": "code",
   "execution_count": 196,
   "metadata": {},
   "outputs": [],
   "source": [
    "# create subgraph of G w/ edges only between vertices in same district\n",
    "def create_district_subgraph(G, districting):\n",
    "    G_d = G.copy()\n",
    "    G_d_edges = list(G_d.edges())\n",
    "    for edge in G_d_edges:\n",
    "        v1 = edge[0]\n",
    "        v2 = edge[1]\n",
    "        if districting[v1] != districting[v2]:\n",
    "            G_d.remove_edge(v1, v2)\n",
    "    return G_d"
   ]
  },
  {
   "cell_type": "code",
   "execution_count": 197,
   "metadata": {},
   "outputs": [],
   "source": [
    "def update_district_subgraph_after_swap(G, G_d, v1, v2, new_districting):\n",
    "    remove_edges_from_vertex(G_d, v1)\n",
    "    remove_edges_from_vertex(G_d, v2)\n",
    "    connect_vertex_to_neighbors_in_district(G_d, v1, current_districting, G)\n",
    "    connect_vertex_to_neighbors_in_district(G_d, v2, current_districting, G)"
   ]
  },
  {
   "cell_type": "code",
   "execution_count": 176,
   "metadata": {},
   "outputs": [],
   "source": [
    "# create initial districting plan by placing 2*3 block grid over 18x18 grid graph\n",
    "block_width = 9\n",
    "block_height = 6\n",
    "num_blocks_across = 2\n",
    "num_blocks_down = 3\n",
    "\n",
    "num_vertices_across = block_width * num_blocks_across\n",
    "num_districts = num_blocks_across * num_blocks_down\n",
    "\n",
    "G = create_square_grid_graph(num_vertices_across, diagonals=True)\n",
    "G_edges = list(G.edges())\n",
    "num_G_edges = len(G_edges) # number of edges in the grid graph\n",
    "\n",
    "G_rook = create_square_grid_graph(num_vertices_across, diagonals=False)\n",
    "G_rook_edges = list(G_rook.edges())"
   ]
  },
  {
   "cell_type": "code",
   "execution_count": 298,
   "metadata": {},
   "outputs": [
    {
     "data": {
      "text/plain": [
       "<matplotlib.image.AxesImage at 0x18b26ecb0b8>"
      ]
     },
     "execution_count": 298,
     "metadata": {},
     "output_type": "execute_result"
    },
    {
     "data": {
      "image/png": "[encoded data removed]",
      "text/plain": [
       "<Figure size 432x288 with 1 Axes>"
      ]
     },
     "metadata": {},
     "output_type": "display_data"
    }
   ],
   "source": [
    "num_proposals = 50000\n",
    "current_districting = create_block_districting(block_width, block_height, num_blocks_across, num_blocks_down)\n",
    "districtings = [current_districting]\n",
    "rook_districtings = [current_districting]\n",
    "\n",
    "# G_d (G_district) is the subgraph of G where edges connect nodes in the same district\n",
    "# G_d should have one connected component per district\n",
    "G_d = create_district_subgraph(G, current_districting)\n",
    "G_rook_d = create_district_subgraph(G_rook, current_districting)\n",
    "\n",
    "for k in range(num_proposals):\n",
    "    # search for conflicting edge to swap\n",
    "    still_searching = True\n",
    "    while still_searching:\n",
    "        r = random.randint(0, num_G_edges - 1)\n",
    "        edge = G_edges[r]\n",
    "        v1 = edge[0]\n",
    "        v2 = edge[1]\n",
    "        if current_districting[v1] != current_districting[v2]:\n",
    "            still_searching = False\n",
    "    # swap the districts of v1 and v2\n",
    "    # update the district graph G_d:\n",
    "    # - remove all edges connected to v1 or v2\n",
    "    # - add edges to v1 or v2 based on new districting\n",
    "    swap_districts(current_districting, v1, v2)\n",
    "    update_district_subgraph_after_swap(G, G_d, v1, v2, current_districting)\n",
    "    update_district_subgraph_after_swap(G_rook, G_rook_d, v1, v2, current_districting)\n",
    "    \n",
    "    # if the new districting is valid, add it to the list\n",
    "    # otherwise undo the changes\n",
    "    if nx.number_connected_components(G_d) == num_districts:\n",
    "        districting_copy = copy.deepcopy(current_districting) # without a deep copy, updating the current districting would change those already stored in the districtings list\n",
    "        districtings.append(districting_copy)\n",
    "        if nx.number_connected_components(G_rook_d) == num_districts:\n",
    "            districting_copy = copy.deepcopy(current_districting)\n",
    "            rook_districtings.append(districting_copy)\n",
    "    else:\n",
    "        swap_districts(current_districting, v1, v2)\n",
    "        update_district_subgraph_after_swap(G, G_d, v1, v2, current_districting)\n",
    "        update_district_subgraph_after_swap(G_rook, G_rook_d, v1, v2, current_districting)\n",
    "plt.imshow(current_districting.reshape((18,18)))"
   ]
  },
  {
   "cell_type": "code",
   "execution_count": 248,
   "metadata": {},
   "outputs": [
    {
     "name": "stdout",
     "output_type": "stream",
     "text": [
      "16653 districtings found.\n",
      "16581 unique districtings found.\n",
      "3 rook districtings found.\n",
      "3 unique rook districtings found.\n"
     ]
    }
   ],
   "source": [
    "# get unique districtings, not identifying those which labels permuted\n",
    "unique_districtings = [np.array(x) for x in set(tuple(x) for x in districtings)]\n",
    "unique_rook_districtings = [np.array(x) for x in set(tuple(x) for x in rook_districtings)]\n",
    "\n",
    "print(str(len(districtings)) + ' districtings found.')\n",
    "print(str(len(unique_districtings)) + ' unique districtings found.')\n",
    "print(str(len(rook_districtings)) + ' rook districtings found.')\n",
    "print(str(len(unique_rook_districtings)) + ' unique rook districtings found.')"
   ]
  },
  {
   "cell_type": "markdown",
   "metadata": {},
   "source": [
    "Seat Share Calculations"
   ]
  },
  {
   "cell_type": "code",
   "execution_count": 226,
   "metadata": {},
   "outputs": [],
   "source": [
    "def get_seat_share(config, districting):\n",
    "    config_flat = np.reshape(config, len(districting))\n",
    "    num_districts = int(max(districting)) + 1\n",
    "    seats = 0\n",
    "    for d in range(num_districts):\n",
    "        vote_diff = sum(config_flat[districting == d])\n",
    "        if vote_diff < 0:\n",
    "            seats += 1\n",
    "        elif vote_diff == 0:\n",
    "            seats += 0.5\n",
    "    return seats"
   ]
  },
  {
   "cell_type": "code",
   "execution_count": 299,
   "metadata": {},
   "outputs": [
    {
     "data": {
      "text/plain": [
       "<matplotlib.collections.PathCollection at 0x18b26f184a8>"
      ]
     },
     "execution_count": 299,
     "metadata": {},
     "output_type": "execute_result"
    },
    {
     "data": {
      "image/png": "[encoded data removed]",
      "text/plain": [
       "<Figure size 432x288 with 1 Axes>"
      ]
     },
     "metadata": {},
     "output_type": "display_data"
    }
   ],
   "source": [
    "seats = []\n",
    "for config in configs:\n",
    "    avg_seats = 0\n",
    "    for districting in unique_districtings:\n",
    "        avg_seats += get_seat_share(config, districting)\n",
    "    avg_seats /= float(len(unique_districtings))\n",
    "    seats.append(avg_seats)\n",
    "plt.scatter(energies, seats)"
   ]
  },
  {
   "cell_type": "code",
   "execution_count": 300,
   "metadata": {},
   "outputs": [
    {
     "data": {
      "text/plain": [
       "[<matplotlib.lines.Line2D at 0x18b43cb2080>]"
      ]
     },
     "execution_count": 300,
     "metadata": {},
     "output_type": "execute_result"
    },
    {
     "data": {
      "image/png": "[encoded data removed]",
      "text/plain": [
       "<Figure size 432x288 with 1 Axes>"
      ]
     },
     "metadata": {},
     "output_type": "display_data"
    }
   ],
   "source": [
    "plt.plot(seats)"
   ]
  },
  {
   "cell_type": "code",
   "execution_count": 301,
   "metadata": {},
   "outputs": [
    {
     "data": {
      "text/plain": [
       "array([[ 1.,  1.,  1.,  1.,  1.,  1.,  1., -1., -1., -1., -1., -1., -1.,\n",
       "        -1., -1., -1., -1., -1.],\n",
       "       [ 1.,  1.,  1.,  1.,  1.,  1.,  1.,  1., -1., -1., -1., -1., -1.,\n",
       "        -1., -1., -1., -1., -1.],\n",
       "       [ 1.,  1.,  1.,  1.,  1.,  1.,  1.,  1., -1., -1., -1., -1., -1.,\n",
       "        -1., -1., -1., -1., -1.],\n",
       "       [ 1.,  1.,  1.,  1.,  1.,  1.,  1., -1., -1., -1., -1., -1., -1.,\n",
       "        -1., -1., -1., -1., -1.],\n",
       "       [ 1.,  1.,  1.,  1.,  1.,  1.,  1., -1., -1., -1., -1., -1., -1.,\n",
       "        -1., -1., -1., -1., -1.],\n",
       "       [ 1.,  1.,  1.,  1.,  1.,  1.,  1., -1., -1., -1., -1., -1., -1.,\n",
       "        -1., -1., -1., -1., -1.],\n",
       "       [ 1.,  1.,  1.,  1.,  1.,  1.,  1., -1., -1., -1., -1., -1., -1.,\n",
       "        -1., -1., -1., -1., -1.],\n",
       "       [ 1.,  1., -1.,  1.,  1.,  1.,  1.,  1.,  1.,  1., -1., -1., -1.,\n",
       "        -1., -1., -1., -1., -1.],\n",
       "       [ 1.,  1.,  1.,  1.,  1.,  1.,  1.,  1.,  1.,  1., -1., -1., -1.,\n",
       "        -1., -1., -1., -1., -1.],\n",
       "       [ 1.,  1.,  1.,  1.,  1.,  1.,  1.,  1.,  1.,  1.,  1., -1., -1.,\n",
       "        -1., -1., -1., -1., -1.],\n",
       "       [ 1.,  1.,  1.,  1.,  1.,  1.,  1.,  1.,  1.,  1.,  1., -1., -1.,\n",
       "        -1., -1., -1., -1., -1.],\n",
       "       [ 1.,  1.,  1.,  1.,  1.,  1.,  1.,  1.,  1.,  1.,  1., -1., -1.,\n",
       "        -1., -1., -1., -1., -1.],\n",
       "       [ 1.,  1.,  1.,  1.,  1.,  1.,  1.,  1.,  1.,  1.,  1.,  1.,  1.,\n",
       "         1., -1., -1., -1., -1.],\n",
       "       [ 1.,  1.,  1.,  1.,  1.,  1.,  1.,  1.,  1.,  1.,  1.,  1.,  1.,\n",
       "         1.,  1.,  1., -1., -1.],\n",
       "       [ 1.,  1.,  1.,  1.,  1.,  1.,  1.,  1.,  1.,  1.,  1.,  1.,  1.,\n",
       "         1.,  1.,  1., -1., -1.],\n",
       "       [ 1.,  1.,  1.,  1.,  1.,  1.,  1.,  1.,  1.,  1.,  1.,  1.,  1.,\n",
       "         1.,  1.,  1., -1., -1.],\n",
       "       [ 1.,  1.,  1.,  1.,  1.,  1.,  1.,  1.,  1.,  1.,  1.,  1.,  1.,\n",
       "         1.,  1.,  1., -1., -1.],\n",
       "       [-1.,  1.,  1.,  1.,  1.,  1.,  1.,  1.,  1.,  1.,  1.,  1.,  1.,\n",
       "         1.,  1.,  1., -1., -1.]])"
      ]
     },
     "execution_count": 301,
     "metadata": {},
     "output_type": "execute_result"
    }
   ],
   "source": [
    "configs[0]"
   ]
  },
  {
   "cell_type": "code",
   "execution_count": null,
   "metadata": {},
   "outputs": [],
   "source": []
  }
 ],
 "metadata": {
  "kernelspec": {
   "display_name": "Python 3",
   "language": "python",
   "name": "python3"
  },
  "language_info": {
   "codemirror_mode": {
    "name": "ipython",
    "version": 3
   },
   "file_extension": ".py",
   "mimetype": "text/x-python",
   "name": "python",
   "nbconvert_exporter": "python",
   "pygments_lexer": "ipython3",
   "version": "3.6.5"
  }
 },
 "nbformat": 4,
 "nbformat_minor": 2
}
